{
  "nbformat": 4,
  "nbformat_minor": 0,
  "metadata": {
    "colab": {
      "provenance": [],
      "authorship_tag": "ABX9TyPB2bnOiOX0ftIKOOsiswBH",
      "include_colab_link": true
    },
    "kernelspec": {
      "name": "python3",
      "display_name": "Python 3"
    },
    "language_info": {
      "name": "python"
    }
  },
  "cells": [
    {
      "cell_type": "markdown",
      "metadata": {
        "id": "view-in-github",
        "colab_type": "text"
      },
      "source": [
        "<a href=\"https://colab.research.google.com/github/rizz778/btp-project/blob/main/notebooks/dataset_eda.ipynb\" target=\"_parent\"><img src=\"https://colab.research.google.com/assets/colab-badge.svg\" alt=\"Open In Colab\"/></a>"
      ]
    },
    {
      "cell_type": "code",
      "execution_count": 1,
      "metadata": {
        "colab": {
          "base_uri": "https://localhost:8080/",
          "height": 310
        },
        "id": "_AnSOY4I78X-",
        "outputId": "5461df89-15c4-4a05-ac29-a881bcdae821"
      },
      "outputs": [
        {
          "output_type": "stream",
          "name": "stdout",
          "text": [
            "🔹 First 5 Rows:\n"
          ]
        },
        {
          "output_type": "display_data",
          "data": {
            "text/plain": [
              "                       Name  \\\n",
              "0                    Ayesha   \n",
              "1                     ANZAR   \n",
              "2            Kuldeep Shukla   \n",
              "3  Gaurav Shirishbhai Gohel   \n",
              "4  Gaurav Shirishbhai Gohel   \n",
              "\n",
              "                                              Review              Date  \\\n",
              "0  First of all we should not pollute the sea/oce...  19-09-2022 15:18   \n",
              "1                                          good work  19-09-2022 15:18   \n",
              "2                                          good Work  19-09-2022 15:18   \n",
              "3  ગણેશ વિસર્જન અને અન્ય ધાર્મિક મુર્તિઓ પ્લાસ્ટર...  19-09-2022 15:18   \n",
              "4  ધાર્મિક કાર્યો માં વપરાતા ફૂલ હાર વગેરે દરિયામ...  19-09-2022 15:18   \n",
              "\n",
              "                                          Translated  \\\n",
              "0  First of all we should not pollute the sea/oce...   \n",
              "1                                          good work   \n",
              "2                                          good Work   \n",
              "3  Ganesh dissolution and other religious idols u...   \n",
              "4  Flowers used in religious activities, etc., sh...   \n",
              "\n",
              "                                     sentiment_score sentiment  topic  \n",
              "0  {'neg': 0.0, 'neu': 0.671, 'pos': 0.329, 'comp...  positive      1  \n",
              "1  {'neg': 0.0, 'neu': 0.256, 'pos': 0.744, 'comp...  positive      3  \n",
              "2  {'neg': 0.0, 'neu': 0.256, 'pos': 0.744, 'comp...  positive      3  \n",
              "3  {'neg': 0.0, 'neu': 0.824, 'pos': 0.176, 'comp...  positive      1  \n",
              "4  {'neg': 0.0, 'neu': 1.0, 'pos': 0.0, 'compound...   neutral      1  "
            ],
            "text/html": [
              "\n",
              "  <div id=\"df-d3f632ab-eff3-4266-872e-4b7e9befbeee\" class=\"colab-df-container\">\n",
              "    <div>\n",
              "<style scoped>\n",
              "    .dataframe tbody tr th:only-of-type {\n",
              "        vertical-align: middle;\n",
              "    }\n",
              "\n",
              "    .dataframe tbody tr th {\n",
              "        vertical-align: top;\n",
              "    }\n",
              "\n",
              "    .dataframe thead th {\n",
              "        text-align: right;\n",
              "    }\n",
              "</style>\n",
              "<table border=\"1\" class=\"dataframe\">\n",
              "  <thead>\n",
              "    <tr style=\"text-align: right;\">\n",
              "      <th></th>\n",
              "      <th>Name</th>\n",
              "      <th>Review</th>\n",
              "      <th>Date</th>\n",
              "      <th>Translated</th>\n",
              "      <th>sentiment_score</th>\n",
              "      <th>sentiment</th>\n",
              "      <th>topic</th>\n",
              "    </tr>\n",
              "  </thead>\n",
              "  <tbody>\n",
              "    <tr>\n",
              "      <th>0</th>\n",
              "      <td>Ayesha</td>\n",
              "      <td>First of all we should not pollute the sea/oce...</td>\n",
              "      <td>19-09-2022 15:18</td>\n",
              "      <td>First of all we should not pollute the sea/oce...</td>\n",
              "      <td>{'neg': 0.0, 'neu': 0.671, 'pos': 0.329, 'comp...</td>\n",
              "      <td>positive</td>\n",
              "      <td>1</td>\n",
              "    </tr>\n",
              "    <tr>\n",
              "      <th>1</th>\n",
              "      <td>ANZAR</td>\n",
              "      <td>good work</td>\n",
              "      <td>19-09-2022 15:18</td>\n",
              "      <td>good work</td>\n",
              "      <td>{'neg': 0.0, 'neu': 0.256, 'pos': 0.744, 'comp...</td>\n",
              "      <td>positive</td>\n",
              "      <td>3</td>\n",
              "    </tr>\n",
              "    <tr>\n",
              "      <th>2</th>\n",
              "      <td>Kuldeep Shukla</td>\n",
              "      <td>good Work</td>\n",
              "      <td>19-09-2022 15:18</td>\n",
              "      <td>good Work</td>\n",
              "      <td>{'neg': 0.0, 'neu': 0.256, 'pos': 0.744, 'comp...</td>\n",
              "      <td>positive</td>\n",
              "      <td>3</td>\n",
              "    </tr>\n",
              "    <tr>\n",
              "      <th>3</th>\n",
              "      <td>Gaurav Shirishbhai Gohel</td>\n",
              "      <td>ગણેશ વિસર્જન અને અન્ય ધાર્મિક મુર્તિઓ પ્લાસ્ટર...</td>\n",
              "      <td>19-09-2022 15:18</td>\n",
              "      <td>Ganesh dissolution and other religious idols u...</td>\n",
              "      <td>{'neg': 0.0, 'neu': 0.824, 'pos': 0.176, 'comp...</td>\n",
              "      <td>positive</td>\n",
              "      <td>1</td>\n",
              "    </tr>\n",
              "    <tr>\n",
              "      <th>4</th>\n",
              "      <td>Gaurav Shirishbhai Gohel</td>\n",
              "      <td>ધાર્મિક કાર્યો માં વપરાતા ફૂલ હાર વગેરે દરિયામ...</td>\n",
              "      <td>19-09-2022 15:18</td>\n",
              "      <td>Flowers used in religious activities, etc., sh...</td>\n",
              "      <td>{'neg': 0.0, 'neu': 1.0, 'pos': 0.0, 'compound...</td>\n",
              "      <td>neutral</td>\n",
              "      <td>1</td>\n",
              "    </tr>\n",
              "  </tbody>\n",
              "</table>\n",
              "</div>\n",
              "    <div class=\"colab-df-buttons\">\n",
              "\n",
              "  <div class=\"colab-df-container\">\n",
              "    <button class=\"colab-df-convert\" onclick=\"convertToInteractive('df-d3f632ab-eff3-4266-872e-4b7e9befbeee')\"\n",
              "            title=\"Convert this dataframe to an interactive table.\"\n",
              "            style=\"display:none;\">\n",
              "\n",
              "  <svg xmlns=\"http://www.w3.org/2000/svg\" height=\"24px\" viewBox=\"0 -960 960 960\">\n",
              "    <path d=\"M120-120v-720h720v720H120Zm60-500h600v-160H180v160Zm220 220h160v-160H400v160Zm0 220h160v-160H400v160ZM180-400h160v-160H180v160Zm440 0h160v-160H620v160ZM180-180h160v-160H180v160Zm440 0h160v-160H620v160Z\"/>\n",
              "  </svg>\n",
              "    </button>\n",
              "\n",
              "  <style>\n",
              "    .colab-df-container {\n",
              "      display:flex;\n",
              "      gap: 12px;\n",
              "    }\n",
              "\n",
              "    .colab-df-convert {\n",
              "      background-color: #E8F0FE;\n",
              "      border: none;\n",
              "      border-radius: 50%;\n",
              "      cursor: pointer;\n",
              "      display: none;\n",
              "      fill: #1967D2;\n",
              "      height: 32px;\n",
              "      padding: 0 0 0 0;\n",
              "      width: 32px;\n",
              "    }\n",
              "\n",
              "    .colab-df-convert:hover {\n",
              "      background-color: #E2EBFA;\n",
              "      box-shadow: 0px 1px 2px rgba(60, 64, 67, 0.3), 0px 1px 3px 1px rgba(60, 64, 67, 0.15);\n",
              "      fill: #174EA6;\n",
              "    }\n",
              "\n",
              "    .colab-df-buttons div {\n",
              "      margin-bottom: 4px;\n",
              "    }\n",
              "\n",
              "    [theme=dark] .colab-df-convert {\n",
              "      background-color: #3B4455;\n",
              "      fill: #D2E3FC;\n",
              "    }\n",
              "\n",
              "    [theme=dark] .colab-df-convert:hover {\n",
              "      background-color: #434B5C;\n",
              "      box-shadow: 0px 1px 3px 1px rgba(0, 0, 0, 0.15);\n",
              "      filter: drop-shadow(0px 1px 2px rgba(0, 0, 0, 0.3));\n",
              "      fill: #FFFFFF;\n",
              "    }\n",
              "  </style>\n",
              "\n",
              "    <script>\n",
              "      const buttonEl =\n",
              "        document.querySelector('#df-d3f632ab-eff3-4266-872e-4b7e9befbeee button.colab-df-convert');\n",
              "      buttonEl.style.display =\n",
              "        google.colab.kernel.accessAllowed ? 'block' : 'none';\n",
              "\n",
              "      async function convertToInteractive(key) {\n",
              "        const element = document.querySelector('#df-d3f632ab-eff3-4266-872e-4b7e9befbeee');\n",
              "        const dataTable =\n",
              "          await google.colab.kernel.invokeFunction('convertToInteractive',\n",
              "                                                    [key], {});\n",
              "        if (!dataTable) return;\n",
              "\n",
              "        const docLinkHtml = 'Like what you see? Visit the ' +\n",
              "          '<a target=\"_blank\" href=https://colab.research.google.com/notebooks/data_table.ipynb>data table notebook</a>'\n",
              "          + ' to learn more about interactive tables.';\n",
              "        element.innerHTML = '';\n",
              "        dataTable['output_type'] = 'display_data';\n",
              "        await google.colab.output.renderOutput(dataTable, element);\n",
              "        const docLink = document.createElement('div');\n",
              "        docLink.innerHTML = docLinkHtml;\n",
              "        element.appendChild(docLink);\n",
              "      }\n",
              "    </script>\n",
              "  </div>\n",
              "\n",
              "\n",
              "    <div id=\"df-f26ee2bf-b190-499a-ab63-258c6d226fe8\">\n",
              "      <button class=\"colab-df-quickchart\" onclick=\"quickchart('df-f26ee2bf-b190-499a-ab63-258c6d226fe8')\"\n",
              "                title=\"Suggest charts\"\n",
              "                style=\"display:none;\">\n",
              "\n",
              "<svg xmlns=\"http://www.w3.org/2000/svg\" height=\"24px\"viewBox=\"0 0 24 24\"\n",
              "     width=\"24px\">\n",
              "    <g>\n",
              "        <path d=\"M19 3H5c-1.1 0-2 .9-2 2v14c0 1.1.9 2 2 2h14c1.1 0 2-.9 2-2V5c0-1.1-.9-2-2-2zM9 17H7v-7h2v7zm4 0h-2V7h2v10zm4 0h-2v-4h2v4z\"/>\n",
              "    </g>\n",
              "</svg>\n",
              "      </button>\n",
              "\n",
              "<style>\n",
              "  .colab-df-quickchart {\n",
              "      --bg-color: #E8F0FE;\n",
              "      --fill-color: #1967D2;\n",
              "      --hover-bg-color: #E2EBFA;\n",
              "      --hover-fill-color: #174EA6;\n",
              "      --disabled-fill-color: #AAA;\n",
              "      --disabled-bg-color: #DDD;\n",
              "  }\n",
              "\n",
              "  [theme=dark] .colab-df-quickchart {\n",
              "      --bg-color: #3B4455;\n",
              "      --fill-color: #D2E3FC;\n",
              "      --hover-bg-color: #434B5C;\n",
              "      --hover-fill-color: #FFFFFF;\n",
              "      --disabled-bg-color: #3B4455;\n",
              "      --disabled-fill-color: #666;\n",
              "  }\n",
              "\n",
              "  .colab-df-quickchart {\n",
              "    background-color: var(--bg-color);\n",
              "    border: none;\n",
              "    border-radius: 50%;\n",
              "    cursor: pointer;\n",
              "    display: none;\n",
              "    fill: var(--fill-color);\n",
              "    height: 32px;\n",
              "    padding: 0;\n",
              "    width: 32px;\n",
              "  }\n",
              "\n",
              "  .colab-df-quickchart:hover {\n",
              "    background-color: var(--hover-bg-color);\n",
              "    box-shadow: 0 1px 2px rgba(60, 64, 67, 0.3), 0 1px 3px 1px rgba(60, 64, 67, 0.15);\n",
              "    fill: var(--button-hover-fill-color);\n",
              "  }\n",
              "\n",
              "  .colab-df-quickchart-complete:disabled,\n",
              "  .colab-df-quickchart-complete:disabled:hover {\n",
              "    background-color: var(--disabled-bg-color);\n",
              "    fill: var(--disabled-fill-color);\n",
              "    box-shadow: none;\n",
              "  }\n",
              "\n",
              "  .colab-df-spinner {\n",
              "    border: 2px solid var(--fill-color);\n",
              "    border-color: transparent;\n",
              "    border-bottom-color: var(--fill-color);\n",
              "    animation:\n",
              "      spin 1s steps(1) infinite;\n",
              "  }\n",
              "\n",
              "  @keyframes spin {\n",
              "    0% {\n",
              "      border-color: transparent;\n",
              "      border-bottom-color: var(--fill-color);\n",
              "      border-left-color: var(--fill-color);\n",
              "    }\n",
              "    20% {\n",
              "      border-color: transparent;\n",
              "      border-left-color: var(--fill-color);\n",
              "      border-top-color: var(--fill-color);\n",
              "    }\n",
              "    30% {\n",
              "      border-color: transparent;\n",
              "      border-left-color: var(--fill-color);\n",
              "      border-top-color: var(--fill-color);\n",
              "      border-right-color: var(--fill-color);\n",
              "    }\n",
              "    40% {\n",
              "      border-color: transparent;\n",
              "      border-right-color: var(--fill-color);\n",
              "      border-top-color: var(--fill-color);\n",
              "    }\n",
              "    60% {\n",
              "      border-color: transparent;\n",
              "      border-right-color: var(--fill-color);\n",
              "    }\n",
              "    80% {\n",
              "      border-color: transparent;\n",
              "      border-right-color: var(--fill-color);\n",
              "      border-bottom-color: var(--fill-color);\n",
              "    }\n",
              "    90% {\n",
              "      border-color: transparent;\n",
              "      border-bottom-color: var(--fill-color);\n",
              "    }\n",
              "  }\n",
              "</style>\n",
              "\n",
              "      <script>\n",
              "        async function quickchart(key) {\n",
              "          const quickchartButtonEl =\n",
              "            document.querySelector('#' + key + ' button');\n",
              "          quickchartButtonEl.disabled = true;  // To prevent multiple clicks.\n",
              "          quickchartButtonEl.classList.add('colab-df-spinner');\n",
              "          try {\n",
              "            const charts = await google.colab.kernel.invokeFunction(\n",
              "                'suggestCharts', [key], {});\n",
              "          } catch (error) {\n",
              "            console.error('Error during call to suggestCharts:', error);\n",
              "          }\n",
              "          quickchartButtonEl.classList.remove('colab-df-spinner');\n",
              "          quickchartButtonEl.classList.add('colab-df-quickchart-complete');\n",
              "        }\n",
              "        (() => {\n",
              "          let quickchartButtonEl =\n",
              "            document.querySelector('#df-f26ee2bf-b190-499a-ab63-258c6d226fe8 button');\n",
              "          quickchartButtonEl.style.display =\n",
              "            google.colab.kernel.accessAllowed ? 'block' : 'none';\n",
              "        })();\n",
              "      </script>\n",
              "    </div>\n",
              "\n",
              "    </div>\n",
              "  </div>\n"
            ],
            "application/vnd.google.colaboratory.intrinsic+json": {
              "type": "dataframe",
              "summary": "{\n  \"name\": \"display(df\",\n  \"rows\": 5,\n  \"fields\": [\n    {\n      \"column\": \"Name\",\n      \"properties\": {\n        \"dtype\": \"string\",\n        \"num_unique_values\": 4,\n        \"samples\": [\n          \"ANZAR\",\n          \"Gaurav Shirishbhai Gohel\",\n          \"Ayesha\"\n        ],\n        \"semantic_type\": \"\",\n        \"description\": \"\"\n      }\n    },\n    {\n      \"column\": \"Review\",\n      \"properties\": {\n        \"dtype\": \"string\",\n        \"num_unique_values\": 5,\n        \"samples\": [\n          \"good work\",\n          \"\\u0aa7\\u0abe\\u0ab0\\u0acd\\u0aae\\u0abf\\u0a95 \\u0a95\\u0abe\\u0ab0\\u0acd\\u0aaf\\u0acb \\u0aae\\u0abe\\u0a82 \\u0ab5\\u0aaa\\u0ab0\\u0abe\\u0aa4\\u0abe \\u0aab\\u0ac2\\u0ab2 \\u0ab9\\u0abe\\u0ab0 \\u0ab5\\u0a97\\u0ac7\\u0ab0\\u0ac7 \\u0aa6\\u0ab0\\u0abf\\u0aaf\\u0abe\\u0aae\\u0abe\\u0a82 \\u0aa8\\u0abe \\u0aaa\\u0aa7\\u0abe\\u0ab0\\u0abe\\u0ab5\\u0ab5\\u0abe. \\u0aa6\\u0ab0\\u0abf\\u0aaf\\u0abe\\u0aa8\\u0ac0 \\u0a86\\u0a9c\\u0ac1\\u0aac\\u0abe\\u0a9c\\u0ac1 \\u0aa8\\u0abe \\u0aa6\\u0ac1\\u0a95\\u0abe\\u0aa8\\u0aa6\\u0abe\\u0ab0\\u0acb\\u0a8f \\u0aaa\\u0acd\\u0ab2\\u0abe\\u0ab8\\u0acd\\u0a9f\\u0abf\\u0a95 \\u0aa8\\u0abe \\u0a9d\\u0aac\\u0ab2\\u0abe \\u0a97\\u0acd\\u0ab0\\u0abe\\u0ab9\\u0a95\\u0acb\\u0aa8\\u0ac7 \\u0aa8\\u0abe \\u0a86\\u0aaa\\u0ab5\\u0abe. \\u0aae\\u0abe\\u0a98\\u0acd\\u0aaf\\u0aae\\u0abf\\u0a95 \\u0ab6\\u0abe\\u0ab3\\u0abe \\u0aa4\\u0aa5\\u0abe \\u0a95\\u0ac9\\u0ab2\\u0ac7\\u0a9c \\u0aa8\\u0abe \\u0ab5\\u0abf\\u0aa6\\u0acd\\u0aaf\\u0abe\\u0ab0\\u0acd\\u0aa5\\u0ac0\\u0a93 \\u0aa6\\u0acd\\u0ab5\\u0abe\\u0ab0\\u0abe \\u0aa8\\u0abf\\u0aaf\\u0aae\\u0abf\\u0aa4 \\u0aa6\\u0ab0\\u0abf\\u0aaf\\u0abe\\u0a87 \\u0ab8\\u0aab\\u0abe\\u0aaf \\u0a95\\u0ab0\\u0abe\\u0ab5\\u0ab5\\u0ac0. \\u0aaa\\u0ab0\\u0acd\\u0aaf\\u0abe\\u0ab5\\u0ab0\\u0aa3\\u0ab5\\u0abf\\u0aa6\\u0acb \\u0a85\\u0aa8\\u0ac7 \\u0ab5\\u0aa8\\u0ab5\\u0abf\\u0aad\\u0abe\\u0a97 \\u0aa6\\u0acd\\u0ab5\\u0abe\\u0ab0\\u0abe \\u0aa6\\u0ab0\\u0abf\\u0aaf\\u0abe\\u0a87 \\u0aaa\\u0a9f\\u0acd\\u0a9f\\u0ac0 \\u0aaa\\u0ab0 \\u0a86\\u0ab5\\u0ac7\\u0ab2\\u0abe \\u0a97\\u0abe\\u0aae\\u0acb\\u0aae\\u0abe\\u0a82 \\u0ab8\\u0ab0\\u0aaa\\u0a82\\u0a9a \\u0aa8\\u0acb \\u0ab8\\u0ab9\\u0abe\\u0ab0\\u0acb \\u0ab2\\u0a88 \\u0aa6\\u0ab0\\u0abf\\u0aaf\\u0abe\\u0a87 \\u0aaa\\u0acd\\u0ab0\\u0aa6\\u0ac1\\u0ab7\\u0aa3 , \\u0aae\\u0ac5\\u0a97\\u0acd\\u0ab0\\u0acb\\u0ab5 , \\u0aa6\\u0ab0\\u0abf\\u0aaf\\u0abe\\u0a87 \\u0a87\\u0a95\\u0acb\\u0ab8\\u0abf\\u0ab8\\u0acd\\u0a9f\\u0aae \\u0ab5\\u0a97\\u0ac7\\u0ab0\\u0ac7 \\u0ab5\\u0abf\\u0ab6\\u0ac7 \\u0a9c\\u0abe\\u0a97\\u0ac3\\u0aa4\\u0abf \\u0aab\\u0ac7\\u0ab2\\u0abe\\u0ab5\\u0ab5\\u0ac0.\",\n          \"good Work\"\n        ],\n        \"semantic_type\": \"\",\n        \"description\": \"\"\n      }\n    },\n    {\n      \"column\": \"Date\",\n      \"properties\": {\n        \"dtype\": \"object\",\n        \"num_unique_values\": 1,\n        \"samples\": [\n          \"19-09-2022 15:18\"\n        ],\n        \"semantic_type\": \"\",\n        \"description\": \"\"\n      }\n    },\n    {\n      \"column\": \"Translated\",\n      \"properties\": {\n        \"dtype\": \"string\",\n        \"num_unique_values\": 5,\n        \"samples\": [\n          \"good work\"\n        ],\n        \"semantic_type\": \"\",\n        \"description\": \"\"\n      }\n    },\n    {\n      \"column\": \"sentiment_score\",\n      \"properties\": {\n        \"dtype\": \"string\",\n        \"num_unique_values\": 4,\n        \"samples\": [\n          \"{'neg': 0.0, 'neu': 0.256, 'pos': 0.744, 'compound': 0.4404}\"\n        ],\n        \"semantic_type\": \"\",\n        \"description\": \"\"\n      }\n    },\n    {\n      \"column\": \"sentiment\",\n      \"properties\": {\n        \"dtype\": \"category\",\n        \"num_unique_values\": 2,\n        \"samples\": [\n          \"neutral\"\n        ],\n        \"semantic_type\": \"\",\n        \"description\": \"\"\n      }\n    },\n    {\n      \"column\": \"topic\",\n      \"properties\": {\n        \"dtype\": \"number\",\n        \"std\": 1,\n        \"min\": 1,\n        \"max\": 3,\n        \"num_unique_values\": 2,\n        \"samples\": [\n          3\n        ],\n        \"semantic_type\": \"\",\n        \"description\": \"\"\n      }\n    }\n  ]\n}"
            }
          },
          "metadata": {}
        }
      ],
      "source": [
        "import pandas as pd\n",
        "\n",
        "# 🔹 Load CSV (Replace with your actual path if uploading manually)\n",
        "df = pd.read_csv('/content/2000annotatedreviewdata.csv')  # or upload manually\n",
        "\n",
        "# 🔍 Preview the first few rows\n",
        "print(\"🔹 First 5 Rows:\")\n",
        "display(df.head())\n",
        "\n",
        "\n"
      ]
    },
    {
      "cell_type": "code",
      "source": [
        "# 🧠 Check basic info\n",
        "print(\"\\n🔹 Dataset Info:\")\n",
        "df.info()"
      ],
      "metadata": {
        "colab": {
          "base_uri": "https://localhost:8080/"
        },
        "id": "2psm-f4RGOdN",
        "outputId": "503988c3-7d31-42aa-ae7a-32cbbc420653"
      },
      "execution_count": 2,
      "outputs": [
        {
          "output_type": "stream",
          "name": "stdout",
          "text": [
            "\n",
            "🔹 Dataset Info:\n",
            "<class 'pandas.core.frame.DataFrame'>\n",
            "RangeIndex: 1999 entries, 0 to 1998\n",
            "Data columns (total 7 columns):\n",
            " #   Column           Non-Null Count  Dtype \n",
            "---  ------           --------------  ----- \n",
            " 0   Name             1999 non-null   object\n",
            " 1   Review           1999 non-null   object\n",
            " 2   Date             1999 non-null   object\n",
            " 3   Translated       1999 non-null   object\n",
            " 4   sentiment_score  1999 non-null   object\n",
            " 5   sentiment        1999 non-null   object\n",
            " 6   topic            1999 non-null   int64 \n",
            "dtypes: int64(1), object(6)\n",
            "memory usage: 109.4+ KB\n"
          ]
        }
      ]
    },
    {
      "cell_type": "code",
      "source": [
        "# 📊 Check for missing values\n",
        "print(\"\\n🔹 Missing Values:\")\n",
        "print(df.isnull().sum())\n",
        "\n"
      ],
      "metadata": {
        "colab": {
          "base_uri": "https://localhost:8080/"
        },
        "id": "knxKN-LqGVE-",
        "outputId": "6f815176-0032-4cfc-a2c2-5ee61f013659"
      },
      "execution_count": 3,
      "outputs": [
        {
          "output_type": "stream",
          "name": "stdout",
          "text": [
            "\n",
            "🔹 Missing Values:\n",
            "Name               0\n",
            "Review             0\n",
            "Date               0\n",
            "Translated         0\n",
            "sentiment_score    0\n",
            "sentiment          0\n",
            "topic              0\n",
            "dtype: int64\n"
          ]
        }
      ]
    },
    {
      "cell_type": "code",
      "source": [
        "# 🔠 Unique values in each column\n",
        "print(\"\\n🔹 Unique Value Counts:\")\n",
        "for col in df.columns:\n",
        "    print(f\"{col}: {df[col].nunique()} unique values\")\n",
        "\n"
      ],
      "metadata": {
        "colab": {
          "base_uri": "https://localhost:8080/"
        },
        "id": "vbYwJNwBGbhk",
        "outputId": "4fcef46f-1c74-46e8-f3bd-96d684a25139"
      },
      "execution_count": 4,
      "outputs": [
        {
          "output_type": "stream",
          "name": "stdout",
          "text": [
            "\n",
            "🔹 Unique Value Counts:\n",
            "Name: 1419 unique values\n",
            "Review: 1893 unique values\n",
            "Date: 2 unique values\n",
            "Translated: 1888 unique values\n",
            "sentiment_score: 1529 unique values\n",
            "sentiment: 3 unique values\n",
            "topic: 5 unique values\n"
          ]
        }
      ]
    },
    {
      "cell_type": "code",
      "source": [
        "\n",
        "# 🏷️ Sentiment distribution for target label (if present)\n",
        "if 'sentiment' in df.columns:\n",
        "    print(\"\\n🔹 Sentiment Label Distribution:\")\n",
        "    print(df['sentiment'].value_counts())"
      ],
      "metadata": {
        "colab": {
          "base_uri": "https://localhost:8080/"
        },
        "id": "Mzgd3QWTGe9W",
        "outputId": "6843cb98-9bb4-441c-8c6a-48039942395b"
      },
      "execution_count": 8,
      "outputs": [
        {
          "output_type": "stream",
          "name": "stdout",
          "text": [
            "\n",
            "🔹 Sentiment Label Distribution:\n",
            "sentiment\n",
            "positive    1277\n",
            "negative     408\n",
            "neutral      314\n",
            "Name: count, dtype: int64\n"
          ]
        }
      ]
    },
    {
      "cell_type": "code",
      "source": [
        "# 🏷️ Topic distribution for target label (if present)\n",
        "if 'topic' in df.columns:\n",
        "    print(\"\\n🔹 Topic Label Distribution:\")\n",
        "    print(df['topic'].value_counts())"
      ],
      "metadata": {
        "colab": {
          "base_uri": "https://localhost:8080/"
        },
        "id": "SG4pft1bHlXT",
        "outputId": "252a15e1-c3ec-401c-f883-16cea94b0690"
      },
      "execution_count": 9,
      "outputs": [
        {
          "output_type": "stream",
          "name": "stdout",
          "text": [
            "\n",
            "🔹 Topic Label Distribution:\n",
            "topic\n",
            "1    1790\n",
            "0      61\n",
            "3      56\n",
            "2      53\n",
            "4      39\n",
            "Name: count, dtype: int64\n"
          ]
        }
      ]
    },
    {
      "cell_type": "code",
      "source": [],
      "metadata": {
        "id": "cyl2s-teH9aZ"
      },
      "execution_count": null,
      "outputs": []
    }
  ]
}